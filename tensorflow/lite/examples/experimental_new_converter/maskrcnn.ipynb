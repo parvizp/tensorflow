{
 "cells": [
  {
   "cell_type": "markdown",
   "metadata": {
    "colab_type": "text",
    "id": "hRWOI1nxutyx"
   },
   "source": [
    "# Overview\n",
    "\n",
    "This CodeLab attempts to convert Mask-RCNN to TF-Lite."
   ]
  },
  {
   "cell_type": "markdown",
   "metadata": {
    "colab_type": "text",
    "id": "wZCbNdY7MNSP"
   },
   "source": [
    "# Step 0: Prerequisites\n",
    "\n",
    "It's recommended to try this feature with the newest TensorFlow nightly pip build."
   ]
  },
  {
   "cell_type": "code",
   "execution_count": 6,
   "metadata": {
    "colab": {},
    "colab_type": "code",
    "id": "6Zk2sUHUm5td"
   },
   "outputs": [
    {
     "name": "stdout",
     "output_type": "stream",
     "text": [
      "Requirement already up-to-date: tf-nightly in ./env/lib/python3.7/site-packages (2.1.0.dev20191203)\n",
      "Requirement already satisfied, skipping upgrade: gast==0.2.2 in ./env/lib/python3.7/site-packages (from tf-nightly) (0.2.2)\n",
      "Requirement already satisfied, skipping upgrade: tf-estimator-nightly in ./env/lib/python3.7/site-packages (from tf-nightly) (2.0.0.dev2019120309)\n",
      "Requirement already satisfied, skipping upgrade: termcolor>=1.1.0 in ./env/lib/python3.7/site-packages (from tf-nightly) (1.1.0)\n",
      "Requirement already satisfied, skipping upgrade: wheel>=0.26; python_version >= \"3\" in ./env/lib/python3.7/site-packages (from tf-nightly) (0.33.6)\n",
      "Requirement already satisfied, skipping upgrade: numpy<2.0,>=1.16.0 in ./env/lib/python3.7/site-packages (from tf-nightly) (1.17.4)\n",
      "Requirement already satisfied, skipping upgrade: six>=1.12.0 in ./env/lib/python3.7/site-packages (from tf-nightly) (1.13.0)\n",
      "Requirement already satisfied, skipping upgrade: google-pasta>=0.1.8 in ./env/lib/python3.7/site-packages (from tf-nightly) (0.1.8)\n",
      "Requirement already satisfied, skipping upgrade: keras-preprocessing>=1.1.0 in ./env/lib/python3.7/site-packages (from tf-nightly) (1.1.0)\n",
      "Requirement already satisfied, skipping upgrade: grpcio>=1.8.6 in ./env/lib/python3.7/site-packages (from tf-nightly) (1.25.0)\n",
      "Requirement already satisfied, skipping upgrade: wrapt>=1.11.1 in ./env/lib/python3.7/site-packages (from tf-nightly) (1.11.2)\n",
      "Requirement already satisfied, skipping upgrade: opt-einsum>=2.3.2 in ./env/lib/python3.7/site-packages (from tf-nightly) (3.1.0)\n",
      "Requirement already satisfied, skipping upgrade: protobuf>=3.8.0 in ./env/lib/python3.7/site-packages (from tf-nightly) (3.11.1)\n",
      "Requirement already satisfied, skipping upgrade: absl-py>=0.7.0 in ./env/lib/python3.7/site-packages (from tf-nightly) (0.8.1)\n",
      "Requirement already satisfied, skipping upgrade: tb-nightly<2.2.0a0,>=2.1.0a0 in ./env/lib/python3.7/site-packages (from tf-nightly) (2.1.0a20191204)\n",
      "Requirement already satisfied, skipping upgrade: astor>=0.6.0 in ./env/lib/python3.7/site-packages (from tf-nightly) (0.8.0)\n",
      "Requirement already satisfied, skipping upgrade: keras-applications>=1.0.8 in ./env/lib/python3.7/site-packages (from tf-nightly) (1.0.8)\n",
      "Requirement already satisfied, skipping upgrade: setuptools in ./env/lib/python3.7/site-packages (from protobuf>=3.8.0->tf-nightly) (42.0.2)\n",
      "Requirement already satisfied, skipping upgrade: google-auth-oauthlib<0.5,>=0.4.1 in ./env/lib/python3.7/site-packages (from tb-nightly<2.2.0a0,>=2.1.0a0->tf-nightly) (0.4.1)\n",
      "Requirement already satisfied, skipping upgrade: markdown>=2.6.8 in ./env/lib/python3.7/site-packages (from tb-nightly<2.2.0a0,>=2.1.0a0->tf-nightly) (3.1.1)\n",
      "Requirement already satisfied, skipping upgrade: requests<3,>=2.21.0 in ./env/lib/python3.7/site-packages (from tb-nightly<2.2.0a0,>=2.1.0a0->tf-nightly) (2.22.0)\n",
      "Requirement already satisfied, skipping upgrade: werkzeug>=0.11.15 in ./env/lib/python3.7/site-packages (from tb-nightly<2.2.0a0,>=2.1.0a0->tf-nightly) (0.16.0)\n",
      "Requirement already satisfied, skipping upgrade: google-auth<2,>=1.6.3 in ./env/lib/python3.7/site-packages (from tb-nightly<2.2.0a0,>=2.1.0a0->tf-nightly) (1.7.1)\n",
      "Requirement already satisfied, skipping upgrade: h5py in ./env/lib/python3.7/site-packages (from keras-applications>=1.0.8->tf-nightly) (2.10.0)\n",
      "Requirement already satisfied, skipping upgrade: requests-oauthlib>=0.7.0 in ./env/lib/python3.7/site-packages (from google-auth-oauthlib<0.5,>=0.4.1->tb-nightly<2.2.0a0,>=2.1.0a0->tf-nightly) (1.3.0)\n",
      "Requirement already satisfied, skipping upgrade: certifi>=2017.4.17 in ./env/lib/python3.7/site-packages (from requests<3,>=2.21.0->tb-nightly<2.2.0a0,>=2.1.0a0->tf-nightly) (2019.11.28)\n",
      "Requirement already satisfied, skipping upgrade: urllib3!=1.25.0,!=1.25.1,<1.26,>=1.21.1 in ./env/lib/python3.7/site-packages (from requests<3,>=2.21.0->tb-nightly<2.2.0a0,>=2.1.0a0->tf-nightly) (1.25.7)\n",
      "Requirement already satisfied, skipping upgrade: chardet<3.1.0,>=3.0.2 in ./env/lib/python3.7/site-packages (from requests<3,>=2.21.0->tb-nightly<2.2.0a0,>=2.1.0a0->tf-nightly) (3.0.4)\n",
      "Requirement already satisfied, skipping upgrade: idna<2.9,>=2.5 in ./env/lib/python3.7/site-packages (from requests<3,>=2.21.0->tb-nightly<2.2.0a0,>=2.1.0a0->tf-nightly) (2.8)\n",
      "Requirement already satisfied, skipping upgrade: rsa<4.1,>=3.1.4 in ./env/lib/python3.7/site-packages (from google-auth<2,>=1.6.3->tb-nightly<2.2.0a0,>=2.1.0a0->tf-nightly) (4.0)\n",
      "Requirement already satisfied, skipping upgrade: cachetools<3.2,>=2.0.0 in ./env/lib/python3.7/site-packages (from google-auth<2,>=1.6.3->tb-nightly<2.2.0a0,>=2.1.0a0->tf-nightly) (3.1.1)\n",
      "Requirement already satisfied, skipping upgrade: pyasn1-modules>=0.2.1 in ./env/lib/python3.7/site-packages (from google-auth<2,>=1.6.3->tb-nightly<2.2.0a0,>=2.1.0a0->tf-nightly) (0.2.7)\n",
      "Requirement already satisfied, skipping upgrade: oauthlib>=3.0.0 in ./env/lib/python3.7/site-packages (from requests-oauthlib>=0.7.0->google-auth-oauthlib<0.5,>=0.4.1->tb-nightly<2.2.0a0,>=2.1.0a0->tf-nightly) (3.1.0)\n",
      "Requirement already satisfied, skipping upgrade: pyasn1>=0.1.3 in ./env/lib/python3.7/site-packages (from rsa<4.1,>=3.1.4->google-auth<2,>=1.6.3->tb-nightly<2.2.0a0,>=2.1.0a0->tf-nightly) (0.4.8)\n"
     ]
    }
   ],
   "source": [
    "!pip install tf-nightly --upgrade"
   ]
  },
  {
   "cell_type": "markdown",
   "metadata": {
    "colab_type": "text",
    "id": "R3Ku1Lx9vvfX"
   },
   "source": [
    "\n",
    "## Step 1: Import the SavedModel from the Object Detection Model Zoo.\n"
   ]
  },
  {
   "cell_type": "code",
   "execution_count": 7,
   "metadata": {
    "colab": {},
    "colab_type": "code",
    "id": "yQpmCIqJPetJ"
   },
   "outputs": [
    {
     "data": {
      "text/plain": [
       "'2.1.0-dev20191203'"
      ]
     },
     "execution_count": 7,
     "metadata": {},
     "output_type": "execute_result"
    }
   ],
   "source": [
    "import numpy as np\n",
    "import tensorflow as tf\n",
    "tf.__version__"
   ]
  },
  {
   "cell_type": "code",
   "execution_count": 12,
   "metadata": {
    "colab": {},
    "colab_type": "code",
    "id": "wiYZoDlC5SEJ"
   },
   "outputs": [
    {
     "name": "stdout",
     "output_type": "stream",
     "text": [
      "--2019-12-04 18:10:09--  http://download.tensorflow.org/models/object_detection/mask_rcnn_resnet50_atrous_coco_2018_01_28.tar.gz\n",
      "Resolving download.tensorflow.org (download.tensorflow.org)... 172.217.2.240, 2607:f8b0:4000:811::2010\n",
      "Connecting to download.tensorflow.org (download.tensorflow.org)|172.217.2.240|:80... connected.\n",
      "HTTP request sent, awaiting response... 200 OK\n",
      "Length: 449505463 (429M) [application/x-tar]\n",
      "Saving to: 'mask_rcnn_resnet50_atrous_coco_2018_01_28.tar.gz'\n",
      "\n",
      "mask_rcnn_resnet50_ 100%[===================>] 428.68M   108MB/s    in 4.2s    \n",
      "\n",
      "2019-12-04 18:10:18 (101 MB/s) - 'mask_rcnn_resnet50_atrous_coco_2018_01_28.tar.gz' saved [449505463/449505463]\n",
      "\n",
      "mask_rcnn_resnet50_atrous_coco_2018_01_28/\n",
      "mask_rcnn_resnet50_atrous_coco_2018_01_28/model.ckpt.index\n",
      "mask_rcnn_resnet50_atrous_coco_2018_01_28/checkpoint\n",
      "mask_rcnn_resnet50_atrous_coco_2018_01_28/pipeline.config\n",
      "mask_rcnn_resnet50_atrous_coco_2018_01_28/model.ckpt.data-00000-of-00001\n",
      "mask_rcnn_resnet50_atrous_coco_2018_01_28/model.ckpt.meta\n",
      "mask_rcnn_resnet50_atrous_coco_2018_01_28/saved_model/\n",
      "mask_rcnn_resnet50_atrous_coco_2018_01_28/saved_model/saved_model.pb\n",
      "mask_rcnn_resnet50_atrous_coco_2018_01_28/saved_model/variables/\n",
      "mask_rcnn_resnet50_atrous_coco_2018_01_28/frozen_inference_graph.pb\n",
      "total 198370\n",
      "-rw-r--r-- 1 parvizp veri        77 Feb  1  2018 checkpoint\n",
      "-rw-r--r-- 1 parvizp veri 145011833 Feb  1  2018 frozen_inference_graph.pb\n",
      "-rw-r--r-- 1 parvizp veri 201340060 Feb  1  2018 model.ckpt.data-00000-of-00001\n",
      "-rw-r--r-- 1 parvizp veri     14741 Feb  1  2018 model.ckpt.index\n",
      "-rw-r--r-- 1 parvizp veri   5234095 Feb  1  2018 model.ckpt.meta\n",
      "-rw-r--r-- 1 parvizp veri      3800 Feb  1  2018 pipeline.config\n",
      "drwxr-xr-x 3 parvizp veri         4 Feb  1  2018 saved_model\n"
     ]
    }
   ],
   "source": [
    "# From: https://github.com/tensorflow/models/blob/master/research/object_detection/g3doc/detection_model_zoo.md\n",
    "!wget http://download.tensorflow.org/models/object_detection/mask_rcnn_resnet50_atrous_coco_2018_01_28.tar.gz\n",
    "!tar -zxvf mask_rcnn_resnet50_atrous_coco_2018_01_28.tar.gz\n",
    "!ls -l mask_rcnn_resnet50_atrous_coco_2018_01_28"
   ]
  },
  {
   "cell_type": "code",
   "execution_count": 13,
   "metadata": {},
   "outputs": [
    {
     "name": "stdout",
     "output_type": "stream",
     "text": [
      "INFO:tensorflow:Saver not created because there are no variables in the graph to restore\n"
     ]
    },
    {
     "ename": "ConverterError",
     "evalue": "See console for info.\n2019-12-04 18:11:17.034818: W tensorflow/compiler/mlir/lite/python/graphdef_to_tfl_flatbuffer.cc:106] Ignored output_format.\n2019-12-04 18:11:17.034844: W tensorflow/compiler/mlir/lite/python/graphdef_to_tfl_flatbuffer.cc:112] Ignored drop_control_dependency.\nTraceback (most recent call last):\n  File \"/n_mounts/scr_ncore/parvizp/Git/tensorflow_public/tensorflow/lite/examples/experimental_new_converter/env/bin/toco_from_protos\", line 8, in <module>\n    sys.exit(main())\n  File \"/n_mounts/scr_ncore/parvizp/Git/tensorflow_public/tensorflow/lite/examples/experimental_new_converter/env/lib/python3.7/site-packages/tensorflow_core/lite/toco/python/toco_from_protos.py\", line 93, in main\n    app.run(main=execute, argv=[sys.argv[0]] + unparsed)\n  File \"/n_mounts/scr_ncore/parvizp/Git/tensorflow_public/tensorflow/lite/examples/experimental_new_converter/env/lib/python3.7/site-packages/tensorflow_core/python/platform/app.py\", line 40, in run\n    _run(main=main, argv=argv, flags_parser=_parse_flags_tolerate_undef)\n  File \"/n_mounts/scr_ncore/parvizp/Git/tensorflow_public/tensorflow/lite/examples/experimental_new_converter/env/lib/python3.7/site-packages/absl/app.py\", line 299, in run\n    _run_main(main, args)\n  File \"/n_mounts/scr_ncore/parvizp/Git/tensorflow_public/tensorflow/lite/examples/experimental_new_converter/env/lib/python3.7/site-packages/absl/app.py\", line 250, in _run_main\n    sys.exit(main(argv))\n  File \"/n_mounts/scr_ncore/parvizp/Git/tensorflow_public/tensorflow/lite/examples/experimental_new_converter/env/lib/python3.7/site-packages/tensorflow_core/lite/toco/python/toco_from_protos.py\", line 56, in execute\n    enable_mlir_converter)\nException: Merge of two inputs that differ on more than one predicate {s(BatchMultiClassNonMaxSuppression/map/while/PadOrClipBoxList/Greater:0,else), s(BatchMultiClassNonMaxSuppression/map/while/PadOrClipBoxList/cond/cond/pred_id:0,then)} and {s(BatchMultiClassNonMaxSuppression/map/while/PadOrClipBoxList/Greater:0,else), s(BatchMultiClassNonMaxSuppression/map/while/PadOrClipBoxList/cond/cond/pred_id:0,else), s(BatchMultiClassNonMaxSuppression/map/while/PadOrClipBoxList/cond/Greater:0,else)}\n\tfor node {{node BatchMultiClassNonMaxSuppression/map/while/PadOrClipBoxList/cond/cond/Merge}}\n\n\n",
     "output_type": "error",
     "traceback": [
      "\u001b[0;31m---------------------------------------------------------------------------\u001b[0m",
      "\u001b[0;31mConverterError\u001b[0m                            Traceback (most recent call last)",
      "\u001b[0;32m<ipython-input-13-ce7aa2600d8d>\u001b[0m in \u001b[0;36m<module>\u001b[0;34m\u001b[0m\n\u001b[1;32m      6\u001b[0m \u001b[0mconverter\u001b[0m \u001b[0;34m=\u001b[0m \u001b[0mtf\u001b[0m\u001b[0;34m.\u001b[0m\u001b[0mlite\u001b[0m\u001b[0;34m.\u001b[0m\u001b[0mTFLiteConverter\u001b[0m\u001b[0;34m.\u001b[0m\u001b[0mfrom_concrete_functions\u001b[0m\u001b[0;34m(\u001b[0m\u001b[0;34m[\u001b[0m\u001b[0mconcrete_func\u001b[0m\u001b[0;34m]\u001b[0m\u001b[0;34m)\u001b[0m\u001b[0;34m\u001b[0m\u001b[0;34m\u001b[0m\u001b[0m\n\u001b[1;32m      7\u001b[0m \u001b[0mconverter\u001b[0m\u001b[0;34m.\u001b[0m\u001b[0mexperimental_new_converter\u001b[0m \u001b[0;34m=\u001b[0m \u001b[0;32mTrue\u001b[0m  \u001b[0;31m# MLIR\u001b[0m\u001b[0;34m\u001b[0m\u001b[0;34m\u001b[0m\u001b[0m\n\u001b[0;32m----> 8\u001b[0;31m \u001b[0mtflite_model\u001b[0m \u001b[0;34m=\u001b[0m \u001b[0mconverter\u001b[0m\u001b[0;34m.\u001b[0m\u001b[0mconvert\u001b[0m\u001b[0;34m(\u001b[0m\u001b[0;34m)\u001b[0m\u001b[0;34m\u001b[0m\u001b[0;34m\u001b[0m\u001b[0m\n\u001b[0m",
      "\u001b[0;32m/n_mounts/scr_ncore/parvizp/Git/tensorflow_public/tensorflow/lite/examples/experimental_new_converter/env/lib/python3.7/site-packages/tensorflow_core/lite/python/lite.py\u001b[0m in \u001b[0;36mconvert\u001b[0;34m(self)\u001b[0m\n\u001b[1;32m    472\u001b[0m         \u001b[0minput_tensors\u001b[0m\u001b[0;34m=\u001b[0m\u001b[0minput_tensors\u001b[0m\u001b[0;34m,\u001b[0m\u001b[0;34m\u001b[0m\u001b[0;34m\u001b[0m\u001b[0m\n\u001b[1;32m    473\u001b[0m         \u001b[0moutput_tensors\u001b[0m\u001b[0;34m=\u001b[0m\u001b[0moutput_tensors\u001b[0m\u001b[0;34m,\u001b[0m\u001b[0;34m\u001b[0m\u001b[0;34m\u001b[0m\u001b[0m\n\u001b[0;32m--> 474\u001b[0;31m         **converter_kwargs)\n\u001b[0m\u001b[1;32m    475\u001b[0m \u001b[0;34m\u001b[0m\u001b[0m\n\u001b[1;32m    476\u001b[0m     \u001b[0;32mif\u001b[0m \u001b[0mself\u001b[0m\u001b[0;34m.\u001b[0m\u001b[0m_is_calibration_quantize\u001b[0m\u001b[0;34m(\u001b[0m\u001b[0;34m)\u001b[0m\u001b[0;34m:\u001b[0m\u001b[0;34m\u001b[0m\u001b[0;34m\u001b[0m\u001b[0m\n",
      "\u001b[0;32m/n_mounts/scr_ncore/parvizp/Git/tensorflow_public/tensorflow/lite/examples/experimental_new_converter/env/lib/python3.7/site-packages/tensorflow_core/lite/python/convert.py\u001b[0m in \u001b[0;36mtoco_convert_impl\u001b[0;34m(input_data, input_tensors, output_tensors, enable_mlir_converter, *args, **kwargs)\u001b[0m\n\u001b[1;32m    473\u001b[0m       \u001b[0minput_data\u001b[0m\u001b[0;34m.\u001b[0m\u001b[0mSerializeToString\u001b[0m\u001b[0;34m(\u001b[0m\u001b[0;34m)\u001b[0m\u001b[0;34m,\u001b[0m\u001b[0;34m\u001b[0m\u001b[0;34m\u001b[0m\u001b[0m\n\u001b[1;32m    474\u001b[0m       \u001b[0mdebug_info_str\u001b[0m\u001b[0;34m=\u001b[0m\u001b[0mdebug_info_str\u001b[0m\u001b[0;34m,\u001b[0m\u001b[0;34m\u001b[0m\u001b[0;34m\u001b[0m\u001b[0m\n\u001b[0;32m--> 475\u001b[0;31m       enable_mlir_converter=enable_mlir_converter)\n\u001b[0m\u001b[1;32m    476\u001b[0m   \u001b[0;32mreturn\u001b[0m \u001b[0mdata\u001b[0m\u001b[0;34m\u001b[0m\u001b[0;34m\u001b[0m\u001b[0m\n\u001b[1;32m    477\u001b[0m \u001b[0;34m\u001b[0m\u001b[0m\n",
      "\u001b[0;32m/n_mounts/scr_ncore/parvizp/Git/tensorflow_public/tensorflow/lite/examples/experimental_new_converter/env/lib/python3.7/site-packages/tensorflow_core/lite/python/convert.py\u001b[0m in \u001b[0;36mtoco_convert_protos\u001b[0;34m(model_flags_str, toco_flags_str, input_data_str, debug_info_str, enable_mlir_converter)\u001b[0m\n\u001b[1;32m    213\u001b[0m       \u001b[0mstdout\u001b[0m \u001b[0;34m=\u001b[0m \u001b[0m_try_convert_to_unicode\u001b[0m\u001b[0;34m(\u001b[0m\u001b[0mstdout\u001b[0m\u001b[0;34m)\u001b[0m\u001b[0;34m\u001b[0m\u001b[0;34m\u001b[0m\u001b[0m\n\u001b[1;32m    214\u001b[0m       \u001b[0mstderr\u001b[0m \u001b[0;34m=\u001b[0m \u001b[0m_try_convert_to_unicode\u001b[0m\u001b[0;34m(\u001b[0m\u001b[0mstderr\u001b[0m\u001b[0;34m)\u001b[0m\u001b[0;34m\u001b[0m\u001b[0;34m\u001b[0m\u001b[0m\n\u001b[0;32m--> 215\u001b[0;31m       \u001b[0;32mraise\u001b[0m \u001b[0mConverterError\u001b[0m\u001b[0;34m(\u001b[0m\u001b[0;34m\"See console for info.\\n%s\\n%s\\n\"\u001b[0m \u001b[0;34m%\u001b[0m \u001b[0;34m(\u001b[0m\u001b[0mstdout\u001b[0m\u001b[0;34m,\u001b[0m \u001b[0mstderr\u001b[0m\u001b[0;34m)\u001b[0m\u001b[0;34m)\u001b[0m\u001b[0;34m\u001b[0m\u001b[0;34m\u001b[0m\u001b[0m\n\u001b[0m\u001b[1;32m    216\u001b[0m   \u001b[0;32mfinally\u001b[0m\u001b[0;34m:\u001b[0m\u001b[0;34m\u001b[0m\u001b[0;34m\u001b[0m\u001b[0m\n\u001b[1;32m    217\u001b[0m     \u001b[0;31m# Must manually cleanup files.\u001b[0m\u001b[0;34m\u001b[0m\u001b[0;34m\u001b[0m\u001b[0;34m\u001b[0m\u001b[0m\n",
      "\u001b[0;31mConverterError\u001b[0m: See console for info.\n2019-12-04 18:11:17.034818: W tensorflow/compiler/mlir/lite/python/graphdef_to_tfl_flatbuffer.cc:106] Ignored output_format.\n2019-12-04 18:11:17.034844: W tensorflow/compiler/mlir/lite/python/graphdef_to_tfl_flatbuffer.cc:112] Ignored drop_control_dependency.\nTraceback (most recent call last):\n  File \"/n_mounts/scr_ncore/parvizp/Git/tensorflow_public/tensorflow/lite/examples/experimental_new_converter/env/bin/toco_from_protos\", line 8, in <module>\n    sys.exit(main())\n  File \"/n_mounts/scr_ncore/parvizp/Git/tensorflow_public/tensorflow/lite/examples/experimental_new_converter/env/lib/python3.7/site-packages/tensorflow_core/lite/toco/python/toco_from_protos.py\", line 93, in main\n    app.run(main=execute, argv=[sys.argv[0]] + unparsed)\n  File \"/n_mounts/scr_ncore/parvizp/Git/tensorflow_public/tensorflow/lite/examples/experimental_new_converter/env/lib/python3.7/site-packages/tensorflow_core/python/platform/app.py\", line 40, in run\n    _run(main=main, argv=argv, flags_parser=_parse_flags_tolerate_undef)\n  File \"/n_mounts/scr_ncore/parvizp/Git/tensorflow_public/tensorflow/lite/examples/experimental_new_converter/env/lib/python3.7/site-packages/absl/app.py\", line 299, in run\n    _run_main(main, args)\n  File \"/n_mounts/scr_ncore/parvizp/Git/tensorflow_public/tensorflow/lite/examples/experimental_new_converter/env/lib/python3.7/site-packages/absl/app.py\", line 250, in _run_main\n    sys.exit(main(argv))\n  File \"/n_mounts/scr_ncore/parvizp/Git/tensorflow_public/tensorflow/lite/examples/experimental_new_converter/env/lib/python3.7/site-packages/tensorflow_core/lite/toco/python/toco_from_protos.py\", line 56, in execute\n    enable_mlir_converter)\nException: Merge of two inputs that differ on more than one predicate {s(BatchMultiClassNonMaxSuppression/map/while/PadOrClipBoxList/Greater:0,else), s(BatchMultiClassNonMaxSuppression/map/while/PadOrClipBoxList/cond/cond/pred_id:0,then)} and {s(BatchMultiClassNonMaxSuppression/map/while/PadOrClipBoxList/Greater:0,else), s(BatchMultiClassNonMaxSuppression/map/while/PadOrClipBoxList/cond/cond/pred_id:0,else), s(BatchMultiClassNonMaxSuppression/map/while/PadOrClipBoxList/cond/Greater:0,else)}\n\tfor node {{node BatchMultiClassNonMaxSuppression/map/while/PadOrClipBoxList/cond/cond/Merge}}\n\n\n"
     ]
    }
   ],
   "source": [
    "model = tf.saved_model.load('mask_rcnn_resnet50_atrous_coco_2018_01_28/saved_model/')\n",
    "# The input placeholder is [None, None, None, 3], replace with fixed shape.\n",
    "concrete_func = model.signatures[\n",
    "  tf.saved_model.DEFAULT_SERVING_SIGNATURE_DEF_KEY]\n",
    "concrete_func.inputs[0].set_shape([1, 640, 640, 3])\n",
    "converter = tf.lite.TFLiteConverter.from_concrete_functions([concrete_func])\n",
    "converter.experimental_new_converter = True  # MLIR\n",
    "tflite_model = converter.convert()"
   ]
  }
 ],
 "metadata": {
  "kernelspec": {
   "display_name": "Python 3",
   "language": "python",
   "name": "python3"
  },
  "language_info": {
   "codemirror_mode": {
    "name": "ipython",
    "version": 3
   },
   "file_extension": ".py",
   "mimetype": "text/x-python",
   "name": "python",
   "nbconvert_exporter": "python",
   "pygments_lexer": "ipython3",
   "version": "3.7.3"
  }
 },
 "nbformat": 4,
 "nbformat_minor": 1
}
